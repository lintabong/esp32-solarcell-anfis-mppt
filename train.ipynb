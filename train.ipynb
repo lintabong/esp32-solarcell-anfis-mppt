{
 "cells": [
  {
   "cell_type": "code",
   "execution_count": 11,
   "metadata": {},
   "outputs": [],
   "source": [
    "import os\n",
    "import csv\n",
    "import numpy\n",
    "import pandas\n",
    "from sklearn.model_selection import train_test_split\n",
    "from sklearn.preprocessing import MinMaxScaler\n",
    "import skfuzzy"
   ]
  },
  {
   "cell_type": "code",
   "execution_count": 16,
   "metadata": {},
   "outputs": [],
   "source": [
    "\n",
    "data = {\n",
    "    'current': [],\n",
    "    'rawIntensity': [],\n",
    "    'temperature': [],\n",
    "    'voltage': [],\n",
    "    'pwm': []\n",
    "}\n",
    "\n",
    "with open('dataset.csv', mode='r') as file:\n",
    "    reader = csv.DictReader(file)\n",
    "\n",
    "    for row in reader:\n",
    "        data['current'].append(float(row['current']))\n",
    "        data['rawIntensity'].append(int(row['rawIntensity']))\n",
    "        data['temperature'].append(int(float(row['temperature'])))\n",
    "        data['voltage'].append(float(row['voltage']))\n",
    "        data['pwm'].append(int(row['pwm']))\n",
    "\n",
    "df = pandas.DataFrame(data)"
   ]
  },
  {
   "cell_type": "code",
   "execution_count": 17,
   "metadata": {},
   "outputs": [
    {
     "data": {
      "text/html": [
       "<div>\n",
       "<style scoped>\n",
       "    .dataframe tbody tr th:only-of-type {\n",
       "        vertical-align: middle;\n",
       "    }\n",
       "\n",
       "    .dataframe tbody tr th {\n",
       "        vertical-align: top;\n",
       "    }\n",
       "\n",
       "    .dataframe thead th {\n",
       "        text-align: right;\n",
       "    }\n",
       "</style>\n",
       "<table border=\"1\" class=\"dataframe\">\n",
       "  <thead>\n",
       "    <tr style=\"text-align: right;\">\n",
       "      <th></th>\n",
       "      <th>current</th>\n",
       "      <th>rawIntensity</th>\n",
       "      <th>temperature</th>\n",
       "      <th>voltage</th>\n",
       "      <th>pwm</th>\n",
       "    </tr>\n",
       "  </thead>\n",
       "  <tbody>\n",
       "    <tr>\n",
       "      <th>0</th>\n",
       "      <td>37.5</td>\n",
       "      <td>1011</td>\n",
       "      <td>25</td>\n",
       "      <td>0.860</td>\n",
       "      <td>150</td>\n",
       "    </tr>\n",
       "    <tr>\n",
       "      <th>1</th>\n",
       "      <td>35.8</td>\n",
       "      <td>1004</td>\n",
       "      <td>25</td>\n",
       "      <td>0.900</td>\n",
       "      <td>100</td>\n",
       "    </tr>\n",
       "    <tr>\n",
       "      <th>2</th>\n",
       "      <td>37.7</td>\n",
       "      <td>1016</td>\n",
       "      <td>25</td>\n",
       "      <td>0.892</td>\n",
       "      <td>100</td>\n",
       "    </tr>\n",
       "    <tr>\n",
       "      <th>3</th>\n",
       "      <td>36.8</td>\n",
       "      <td>1010</td>\n",
       "      <td>25</td>\n",
       "      <td>0.892</td>\n",
       "      <td>100</td>\n",
       "    </tr>\n",
       "    <tr>\n",
       "      <th>4</th>\n",
       "      <td>37.1</td>\n",
       "      <td>1010</td>\n",
       "      <td>25</td>\n",
       "      <td>0.896</td>\n",
       "      <td>100</td>\n",
       "    </tr>\n",
       "  </tbody>\n",
       "</table>\n",
       "</div>"
      ],
      "text/plain": [
       "   current  rawIntensity  temperature  voltage  pwm\n",
       "0     37.5          1011           25    0.860  150\n",
       "1     35.8          1004           25    0.900  100\n",
       "2     37.7          1016           25    0.892  100\n",
       "3     36.8          1010           25    0.892  100\n",
       "4     37.1          1010           25    0.896  100"
      ]
     },
     "execution_count": 17,
     "metadata": {},
     "output_type": "execute_result"
    }
   ],
   "source": [
    "df.head()"
   ]
  },
  {
   "cell_type": "code",
   "execution_count": 22,
   "metadata": {},
   "outputs": [],
   "source": [
    "X = df[['current', 'rawIntensity', 'temperature', 'voltage']].values\n",
    "y = df['pwm'].values\n",
    "X_train, X_test, y_train, y_test = train_test_split(X, y, test_size=0.2, random_state=42)"
   ]
  },
  {
   "cell_type": "code",
   "execution_count": 26,
   "metadata": {},
   "outputs": [],
   "source": [
    "\n",
    "\n",
    "def gaussian_mf(x, mean, sigma):\n",
    "    return numpy.exp(-((x - mean) ** 2) / (2 * sigma ** 2))\n",
    "\n",
    "def anfis_inference(inputs, mf_params, rule_weights):\n",
    "    mf_values = []\n",
    "    for i, input_value in enumerate(inputs):\n",
    "        param = list(mf_params.values())[i]\n",
    "        mf_values.append(gaussian_mf(input_value, param[0], param[1]))\n",
    "\n",
    "    weighted_sum = 0\n",
    "    weight_total = 0\n",
    "    for i, weight in enumerate(rule_weights):\n",
    "        weighted_sum += mf_values[i] * weight\n",
    "        weight_total += weight\n",
    "\n",
    "    return weighted_sum / weight_total if weight_total != 0 else 0\n",
    "\n"
   ]
  },
  {
   "cell_type": "code",
   "execution_count": 27,
   "metadata": {},
   "outputs": [],
   "source": [
    "mf_params = {\n",
    "    'current': [0.6, 0.1],  # [mean, sigma]\n",
    "    'rawIntensity': [100, 10],\n",
    "    'temperature': [30, 5],\n",
    "    'voltage': [1.5, 0.2]\n",
    "}"
   ]
  },
  {
   "cell_type": "code",
   "execution_count": 25,
   "metadata": {},
   "outputs": [
    {
     "name": "stdout",
     "output_type": "stream",
     "text": [
      "Mean Squared Error: 13505.1845904679\n"
     ]
    }
   ],
   "source": [
    "rule_weights = [1.0, 0.6, 0.6, 0.6]\n",
    "\n",
    "predictions = []\n",
    "for x in X_test:\n",
    "    predictions.append(anfis_inference(x, mf_params, rule_weights))\n",
    "\n",
    "mse = numpy.mean((numpy.array(predictions) - y_test) ** 2)\n",
    "print(f\"Mean Squared Error: {mse}\")"
   ]
  },
  {
   "cell_type": "code",
   "execution_count": 20,
   "metadata": {},
   "outputs": [
    {
     "name": "stdout",
     "output_type": "stream",
     "text": [
      "[3.720e+01 1.011e+03 2.500e+01 8.520e-01]\n"
     ]
    }
   ],
   "source": [
    "print(x)"
   ]
  },
  {
   "cell_type": "code",
   "execution_count": 21,
   "metadata": {},
   "outputs": [
    {
     "name": "stdout",
     "output_type": "stream",
     "text": [
      "2684\n"
     ]
    }
   ],
   "source": [
    "print(len(X_train))"
   ]
  }
 ],
 "metadata": {
  "kernelspec": {
   "display_name": ".venv",
   "language": "python",
   "name": "python3"
  },
  "language_info": {
   "codemirror_mode": {
    "name": "ipython",
    "version": 3
   },
   "file_extension": ".py",
   "mimetype": "text/x-python",
   "name": "python",
   "nbconvert_exporter": "python",
   "pygments_lexer": "ipython3",
   "version": "3.11.0"
  }
 },
 "nbformat": 4,
 "nbformat_minor": 2
}
