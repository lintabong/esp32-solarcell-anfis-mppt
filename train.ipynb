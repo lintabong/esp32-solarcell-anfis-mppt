{
 "cells": [
  {
   "cell_type": "code",
   "execution_count": 1,
   "metadata": {},
   "outputs": [],
   "source": [
    "import os\n",
    "import csv\n",
    "import numpy\n",
    "import pandas\n",
    "from sklearn.model_selection import train_test_split\n",
    "from sklearn.preprocessing import MinMaxScaler\n",
    "import skfuzzy"
   ]
  },
  {
   "cell_type": "code",
   "execution_count": 2,
   "metadata": {},
   "outputs": [],
   "source": [
    "\n",
    "data = {\n",
    "    'current': [],\n",
    "    'rawIntensity': [],\n",
    "    'temperature': [],\n",
    "    'voltage': [],\n",
    "    'pwm': []\n",
    "}\n",
    "\n",
    "with open('dataset.csv', mode='r') as file:\n",
    "    reader = csv.DictReader(file)\n",
    "\n",
    "    for row in reader:\n",
    "        data['current'].append(float(row['current']))\n",
    "        data['rawIntensity'].append(int(row['rawIntensity']))\n",
    "        data['temperature'].append(int(float(row['temperature'])))\n",
    "        data['voltage'].append(float(row['voltage']))\n",
    "        data['pwm'].append(int(row['pwm']))\n",
    "\n",
    "df = pandas.DataFrame(data)"
   ]
  },
  {
   "cell_type": "code",
   "execution_count": 3,
   "metadata": {},
   "outputs": [
    {
     "data": {
      "text/html": [
       "<div>\n",
       "<style scoped>\n",
       "    .dataframe tbody tr th:only-of-type {\n",
       "        vertical-align: middle;\n",
       "    }\n",
       "\n",
       "    .dataframe tbody tr th {\n",
       "        vertical-align: top;\n",
       "    }\n",
       "\n",
       "    .dataframe thead th {\n",
       "        text-align: right;\n",
       "    }\n",
       "</style>\n",
       "<table border=\"1\" class=\"dataframe\">\n",
       "  <thead>\n",
       "    <tr style=\"text-align: right;\">\n",
       "      <th></th>\n",
       "      <th>current</th>\n",
       "      <th>rawIntensity</th>\n",
       "      <th>temperature</th>\n",
       "      <th>voltage</th>\n",
       "      <th>pwm</th>\n",
       "    </tr>\n",
       "  </thead>\n",
       "  <tbody>\n",
       "    <tr>\n",
       "      <th>0</th>\n",
       "      <td>37.5</td>\n",
       "      <td>1011</td>\n",
       "      <td>25</td>\n",
       "      <td>0.860</td>\n",
       "      <td>150</td>\n",
       "    </tr>\n",
       "    <tr>\n",
       "      <th>1</th>\n",
       "      <td>35.8</td>\n",
       "      <td>1004</td>\n",
       "      <td>25</td>\n",
       "      <td>0.900</td>\n",
       "      <td>100</td>\n",
       "    </tr>\n",
       "    <tr>\n",
       "      <th>2</th>\n",
       "      <td>37.7</td>\n",
       "      <td>1016</td>\n",
       "      <td>25</td>\n",
       "      <td>0.892</td>\n",
       "      <td>100</td>\n",
       "    </tr>\n",
       "    <tr>\n",
       "      <th>3</th>\n",
       "      <td>36.8</td>\n",
       "      <td>1010</td>\n",
       "      <td>25</td>\n",
       "      <td>0.892</td>\n",
       "      <td>100</td>\n",
       "    </tr>\n",
       "    <tr>\n",
       "      <th>4</th>\n",
       "      <td>37.1</td>\n",
       "      <td>1010</td>\n",
       "      <td>25</td>\n",
       "      <td>0.896</td>\n",
       "      <td>100</td>\n",
       "    </tr>\n",
       "  </tbody>\n",
       "</table>\n",
       "</div>"
      ],
      "text/plain": [
       "   current  rawIntensity  temperature  voltage  pwm\n",
       "0     37.5          1011           25    0.860  150\n",
       "1     35.8          1004           25    0.900  100\n",
       "2     37.7          1016           25    0.892  100\n",
       "3     36.8          1010           25    0.892  100\n",
       "4     37.1          1010           25    0.896  100"
      ]
     },
     "execution_count": 3,
     "metadata": {},
     "output_type": "execute_result"
    }
   ],
   "source": [
    "df.head()"
   ]
  },
  {
   "cell_type": "code",
   "execution_count": 4,
   "metadata": {},
   "outputs": [],
   "source": [
    "X = df[['current', 'rawIntensity', 'temperature', 'voltage']].values\n",
    "y = df['pwm'].values\n",
    "X_train, X_test, y_train, y_test = train_test_split(X, y, test_size=0.2, random_state=42)"
   ]
  },
  {
   "cell_type": "code",
   "execution_count": 6,
   "metadata": {},
   "outputs": [],
   "source": [
    "def gaussian_mf(x, mean, sigma):\n",
    "    return numpy.exp(-((x - mean) ** 2) / (2 * sigma ** 2))\n",
    "\n",
    "def anfis_inference(inputs, mf_params, rule_weights):\n",
    "    mf_values = []\n",
    "    for i, input_value in enumerate(inputs):\n",
    "        param = list(mf_params.values())[i]\n",
    "        mf_values.append(gaussian_mf(input_value, param[0], param[1]))\n",
    "\n",
    "    weighted_sum = 0\n",
    "    weight_total = 0\n",
    "    for i, weight in enumerate(rule_weights):\n",
    "        weighted_sum += mf_values[i] * weight\n",
    "        weight_total += weight\n",
    "\n",
    "    return weighted_sum / weight_total if weight_total != 0 else 0\n",
    "\n"
   ]
  },
  {
   "cell_type": "code",
   "execution_count": 16,
   "metadata": {},
   "outputs": [],
   "source": [
    "# Gaussian Membership Function\n",
    "def gaussian_mf(x, mean, sigma):\n",
    "    return numpy.exp(-((x - mean) ** 2) / (2 * sigma ** 2))\n",
    "\n",
    "# Inferensi ANFIS\n",
    "def anfis_inference(inputs, mf_params, rules):\n",
    "    rule_outputs = []\n",
    "    for rule in rules:\n",
    "        # Hitung derajat keanggotaan untuk setiap input di aturan ini\n",
    "        memberships = []\n",
    "        for i, param in enumerate(rule['mf_params']):\n",
    "            memberships.append(gaussian_mf(inputs[i], param[0], param[1]))\n",
    "\n",
    "        # Kombinasikan menggunakan AND (T-norm)\n",
    "        rule_strength = min(memberships)  # T-norm: Minimum\n",
    "\n",
    "        # Hitung output aturan\n",
    "        rule_outputs.append(rule_strength * rule['output'])\n",
    "\n",
    "    # Defuzzifikasi menggunakan rata-rata berbobot\n",
    "    weighted_sum = sum(rule_outputs)\n",
    "    weight_total = sum([min(m) for m in rule_outputs])\n",
    "\n",
    "    return weighted_sum / weight_total if weight_total != 0 else 0"
   ]
  },
  {
   "cell_type": "code",
   "execution_count": 7,
   "metadata": {},
   "outputs": [],
   "source": [
    "# [mean, sigma]\n",
    "mf_params = {\n",
    "    'current': [0.6, 0.1],  \n",
    "    'rawIntensity': [100, 10],\n",
    "    'temperature': [30, 5],\n",
    "    'voltage': [1.5, 0.2]\n",
    "}"
   ]
  },
  {
   "cell_type": "code",
   "execution_count": 11,
   "metadata": {},
   "outputs": [],
   "source": [
    "mf_params = [\n",
    "    # Format: [mean, sigma]\n",
    "    [[0.6, 0.1], [100, 10], [30, 5], [1.5, 0.2]],\n",
    "    [[0.5, 0.2], [90, 20], [25, 6], [1.3, 0.3]]\n",
    "]\n",
    "\n",
    "rules = [\n",
    "    {'mf_params': mf_params[0], 'output': 150},\n",
    "    {'mf_params': mf_params[1], 'output': 100}\n",
    "]"
   ]
  },
  {
   "cell_type": "code",
   "execution_count": 12,
   "metadata": {},
   "outputs": [
    {
     "ename": "TypeError",
     "evalue": "'numpy.float64' object is not iterable",
     "output_type": "error",
     "traceback": [
      "\u001b[1;31m---------------------------------------------------------------------------\u001b[0m",
      "\u001b[1;31mTypeError\u001b[0m                                 Traceback (most recent call last)",
      "Cell \u001b[1;32mIn[12], line 3\u001b[0m\n\u001b[0;32m      1\u001b[0m predictions \u001b[38;5;241m=\u001b[39m []\n\u001b[0;32m      2\u001b[0m \u001b[38;5;28;01mfor\u001b[39;00m x \u001b[38;5;129;01min\u001b[39;00m X_test:\n\u001b[1;32m----> 3\u001b[0m     predictions\u001b[38;5;241m.\u001b[39mappend(\u001b[43manfis_inference\u001b[49m\u001b[43m(\u001b[49m\u001b[43mx\u001b[49m\u001b[43m,\u001b[49m\u001b[43m \u001b[49m\u001b[43mmf_params\u001b[49m\u001b[43m,\u001b[49m\u001b[43m \u001b[49m\u001b[43mrules\u001b[49m\u001b[43m)\u001b[49m)\n\u001b[0;32m      5\u001b[0m \u001b[38;5;66;03m# Evaluasi\u001b[39;00m\n\u001b[0;32m      6\u001b[0m mse \u001b[38;5;241m=\u001b[39m numpy\u001b[38;5;241m.\u001b[39mmean((numpy\u001b[38;5;241m.\u001b[39marray(predictions) \u001b[38;5;241m-\u001b[39m y_test) \u001b[38;5;241m*\u001b[39m\u001b[38;5;241m*\u001b[39m \u001b[38;5;241m2\u001b[39m)\n",
      "Cell \u001b[1;32mIn[10], line 22\u001b[0m, in \u001b[0;36manfis_inference\u001b[1;34m(inputs, mf_params, rules)\u001b[0m\n\u001b[0;32m     20\u001b[0m \u001b[38;5;66;03m# Defuzzifikasi menggunakan rata-rata berbobot\u001b[39;00m\n\u001b[0;32m     21\u001b[0m weighted_sum \u001b[38;5;241m=\u001b[39m \u001b[38;5;28msum\u001b[39m(rule_outputs)\n\u001b[1;32m---> 22\u001b[0m weight_total \u001b[38;5;241m=\u001b[39m \u001b[38;5;28msum\u001b[39m(\u001b[43m[\u001b[49m\u001b[38;5;28;43mmin\u001b[39;49m\u001b[43m(\u001b[49m\u001b[43mm\u001b[49m\u001b[43m)\u001b[49m\u001b[43m \u001b[49m\u001b[38;5;28;43;01mfor\u001b[39;49;00m\u001b[43m \u001b[49m\u001b[43mm\u001b[49m\u001b[43m \u001b[49m\u001b[38;5;129;43;01min\u001b[39;49;00m\u001b[43m \u001b[49m\u001b[43mrule_outputs\u001b[49m\u001b[43m]\u001b[49m)\n\u001b[0;32m     24\u001b[0m \u001b[38;5;28;01mreturn\u001b[39;00m weighted_sum \u001b[38;5;241m/\u001b[39m weight_total \u001b[38;5;28;01mif\u001b[39;00m weight_total \u001b[38;5;241m!=\u001b[39m \u001b[38;5;241m0\u001b[39m \u001b[38;5;28;01melse\u001b[39;00m \u001b[38;5;241m0\u001b[39m\n",
      "Cell \u001b[1;32mIn[10], line 22\u001b[0m, in \u001b[0;36m<listcomp>\u001b[1;34m(.0)\u001b[0m\n\u001b[0;32m     20\u001b[0m \u001b[38;5;66;03m# Defuzzifikasi menggunakan rata-rata berbobot\u001b[39;00m\n\u001b[0;32m     21\u001b[0m weighted_sum \u001b[38;5;241m=\u001b[39m \u001b[38;5;28msum\u001b[39m(rule_outputs)\n\u001b[1;32m---> 22\u001b[0m weight_total \u001b[38;5;241m=\u001b[39m \u001b[38;5;28msum\u001b[39m([\u001b[38;5;28;43mmin\u001b[39;49m\u001b[43m(\u001b[49m\u001b[43mm\u001b[49m\u001b[43m)\u001b[49m \u001b[38;5;28;01mfor\u001b[39;00m m \u001b[38;5;129;01min\u001b[39;00m rule_outputs])\n\u001b[0;32m     24\u001b[0m \u001b[38;5;28;01mreturn\u001b[39;00m weighted_sum \u001b[38;5;241m/\u001b[39m weight_total \u001b[38;5;28;01mif\u001b[39;00m weight_total \u001b[38;5;241m!=\u001b[39m \u001b[38;5;241m0\u001b[39m \u001b[38;5;28;01melse\u001b[39;00m \u001b[38;5;241m0\u001b[39m\n",
      "\u001b[1;31mTypeError\u001b[0m: 'numpy.float64' object is not iterable"
     ]
    }
   ],
   "source": [
    "predictions = []\n",
    "for x in X_test:\n",
    "    predictions.append(anfis_inference(x, mf_params, rules))\n",
    "\n",
    "# Evaluasi\n",
    "mse = numpy.mean((numpy.array(predictions) - y_test) ** 2)\n",
    "print(f\"Mean Squared Error: {mse}\")"
   ]
  },
  {
   "cell_type": "code",
   "execution_count": 9,
   "metadata": {},
   "outputs": [
    {
     "name": "stdout",
     "output_type": "stream",
     "text": [
      "Mean Squared Error: 13505.1845904679\n"
     ]
    }
   ],
   "source": [
    "rule_weights = [1.0, 0.6, 0.6, 0.6]\n",
    "\n",
    "predictions = []\n",
    "for x in X_test:\n",
    "    predictions.append(anfis_inference(x, mf_params, rule_weights))\n",
    "\n",
    "mse = numpy.mean((numpy.array(predictions) - y_test) ** 2)\n",
    "print(f\"Mean Squared Error: {mse}\")"
   ]
  },
  {
   "cell_type": "code",
   "execution_count": 20,
   "metadata": {},
   "outputs": [],
   "source": [
    "# Gaussian Membership Function\n",
    "def gaussian_mf(x, mean, sigma):\n",
    "    return numpy.exp(-((x - mean) ** 2) / (2 * sigma ** 2))\n",
    "\n",
    "# Inferensi ANFIS\n",
    "def anfis_inference(inputs, mf_params, rules):\n",
    "    rule_outputs = []\n",
    "    for rule in rules:\n",
    "        # Hitung derajat keanggotaan untuk setiap input di aturan ini\n",
    "        memberships = []\n",
    "        for i, param in enumerate(rule['mf_params']):\n",
    "            memberships.append(gaussian_mf(inputs[i], param[0], param[1]))\n",
    "\n",
    "        # Kombinasikan menggunakan AND (T-norm)\n",
    "        rule_strength = min(memberships)  # T-norm: Minimum\n",
    "\n",
    "        # Hitung output aturan\n",
    "        rule_outputs.append(rule_strength * rule['output'])\n",
    "\n",
    "    # Defuzzifikasi menggunakan rata-rata berbobot\n",
    "    weighted_sum = sum(rule_outputs)\n",
    "    weight_total = sum([m for m in rule_outputs])\n",
    "\n",
    "    return weighted_sum / weight_total if weight_total != 0 else 0"
   ]
  },
  {
   "cell_type": "code",
   "execution_count": 21,
   "metadata": {},
   "outputs": [
    {
     "name": "stdout",
     "output_type": "stream",
     "text": [
      "Mean Squared Error: 13533.849478390463\n"
     ]
    }
   ],
   "source": [
    "# Dataset\n",
    "data = {\n",
    "    'current': [],\n",
    "    'rawIntensity': [],\n",
    "    'temperature': [],\n",
    "    'voltage': [],\n",
    "    'pwm': []\n",
    "}\n",
    "\n",
    "with open('dataset.csv', mode='r') as file:\n",
    "    reader = csv.DictReader(file)\n",
    "    for row in reader:\n",
    "        data['current'].append(float(row['current']))\n",
    "        data['rawIntensity'].append(int(row['rawIntensity']))\n",
    "        data['temperature'].append(int(float(row['temperature'])))\n",
    "        data['voltage'].append(float(row['voltage']))\n",
    "        data['pwm'].append(int(row['pwm']))\n",
    "\n",
    "df = pandas.DataFrame(data)\n",
    "X = df[['current', 'rawIntensity', 'temperature', 'voltage']].values\n",
    "y = df['pwm'].values\n",
    "X_train, X_test, y_train, y_test = train_test_split(X, y, test_size=0.2, random_state=42)\n",
    "\n",
    "# Parameter Membership Functions dan Aturan\n",
    "mf_params = [\n",
    "    # Format: [mean, sigma]\n",
    "    [[0.6, 0.1], [100, 10], [30, 5], [1.5, 0.2]],\n",
    "    [[0.5, 0.2], [90, 20], [25, 6], [1.3, 0.3]]\n",
    "]\n",
    "\n",
    "rules = [\n",
    "    {'mf_params': mf_params[0], 'output': 150},\n",
    "    {'mf_params': mf_params[1], 'output': 100}\n",
    "]\n",
    "\n",
    "# Prediksi\n",
    "predictions = []\n",
    "for x in X_test:\n",
    "    predictions.append(anfis_inference(x, mf_params, rules))\n",
    "\n",
    "# Evaluasi\n",
    "mse = numpy.mean((numpy.array(predictions) - y_test) ** 2)\n",
    "print(f\"Mean Squared Error: {mse}\")\n"
   ]
  },
  {
   "cell_type": "code",
   "execution_count": null,
   "metadata": {},
   "outputs": [],
   "source": []
  },
  {
   "cell_type": "code",
   "execution_count": null,
   "metadata": {},
   "outputs": [],
   "source": []
  },
  {
   "cell_type": "code",
   "execution_count": null,
   "metadata": {},
   "outputs": [],
   "source": []
  },
  {
   "cell_type": "code",
   "execution_count": 22,
   "metadata": {},
   "outputs": [],
   "source": [
    "# Ekspor model ke file C header\n",
    "with open(\"model.h\", \"w\") as file:\n",
    "    file.write(\"// Generated ANFIS Model\\n\\n\")\n",
    "    file.write(\"#ifndef ANFIS_MODEL_H\\n#define ANFIS_MODEL_H\\n\\n\")\n",
    "\n",
    "    # Tulis parameter fungsi keanggotaan\n",
    "    file.write(\"float mf_params[][2] = {\\n\")\n",
    "    for params in mf_params:\n",
    "        file.write(\"    {\" + \", \".join(map(str, params[0])) + \"},\\n\")\n",
    "    file.write(\"};\\n\\n\")\n",
    "\n",
    "    # Tulis aturan fuzzy\n",
    "    file.write(\"struct Rule {\\n    float mf_params[4][2];\\n    int output;\\n};\\n\\n\")\n",
    "    file.write(\"Rule rules[] = {\\n\")\n",
    "    for rule in rules:\n",
    "        mf_str = \", \".join(\n",
    "            \"{\" + \", \".join(map(str, param)) + \"}\" for param in rule['mf_params']\n",
    "        )\n",
    "        file.write(f\"    {{{mf_str}, {rule['output']}}},\\n\")\n",
    "    file.write(\"};\\n\\n\")\n",
    "\n",
    "    file.write(\"#endif // ANFIS_MODEL_H\\n\")\n"
   ]
  },
  {
   "cell_type": "code",
   "execution_count": null,
   "metadata": {},
   "outputs": [],
   "source": []
  },
  {
   "cell_type": "code",
   "execution_count": 5,
   "metadata": {},
   "outputs": [
    {
     "name": "stdout",
     "output_type": "stream",
     "text": [
      "Mean Squared Error: 13499.787449995414\n"
     ]
    }
   ],
   "source": [
    "import csv\n",
    "import pandas\n",
    "import numpy\n",
    "from sklearn.model_selection import train_test_split\n",
    "import skfuzzy as fuzz\n",
    "\n",
    "# Step 1: Load dataset\n",
    "data = {\n",
    "    'current': [],\n",
    "    'rawIntensity': [],\n",
    "    'temperature': [],\n",
    "    'voltage': [],\n",
    "    'pwm': []\n",
    "}\n",
    "\n",
    "with open('dataset.csv', mode='r') as file:\n",
    "    reader = csv.DictReader(file)\n",
    "    for row in reader:\n",
    "        data['current'].append(float(row['current']))\n",
    "        data['rawIntensity'].append(int(row['rawIntensity']))\n",
    "        data['temperature'].append(int(float(row['temperature'])))\n",
    "        data['voltage'].append(float(row['voltage']))\n",
    "        data['pwm'].append(int(row['pwm']))\n",
    "\n",
    "df = pandas.DataFrame(data)\n",
    "\n",
    "# Step 2: Split data into training and testing sets\n",
    "X = df[['current', 'rawIntensity', 'temperature', 'voltage']].values\n",
    "y = df['pwm'].values\n",
    "X_train, X_test, y_train, y_test = train_test_split(X, y, test_size=0.2, random_state=42)\n",
    "\n",
    "# Step 3: Define fuzzy membership functions\n",
    "def gaussian_mf(x, mean, sigma):\n",
    "    return numpy.exp(-((x - mean) ** 2) / (2 * sigma ** 2))\n",
    "\n",
    "# Initialize membership function parameters\n",
    "mf_params = {\n",
    "    'current': [0.6, 0.1],  # Example: [mean, sigma]\n",
    "    'rawIntensity': [100, 10],\n",
    "    'temperature': [30, 5],\n",
    "    'voltage': [1.5, 0.2]\n",
    "}\n",
    "\n",
    "# Step 4: Train ANFIS model (rule-based, simple aggregation)\n",
    "def anfis_inference(inputs, mf_params, rule_weights):\n",
    "    mf_values = []\n",
    "    for i, input_value in enumerate(inputs):\n",
    "        param = list(mf_params.values())[i]\n",
    "        mf_values.append(gaussian_mf(input_value, param[0], param[1]))\n",
    "    \n",
    "    # Combine membership function outputs using rules\n",
    "    weighted_sum = 0\n",
    "    weight_total = 0\n",
    "    for i, weight in enumerate(rule_weights):\n",
    "        weighted_sum += mf_values[i] * weight\n",
    "        weight_total += weight\n",
    "\n",
    "    return weighted_sum / weight_total if weight_total != 0 else 0\n",
    "\n",
    "# Assign rule weights (example, could be learned in advanced ANFIS)\n",
    "rule_weights = [1.0, 1.0, 1.0, 1.0]\n",
    "\n",
    "# Step 5: Test model\n",
    "predictions = []\n",
    "for x in X_test:\n",
    "    predictions.append(anfis_inference(x, mf_params, rule_weights))\n",
    "\n",
    "# Calculate Mean Squared Error (MSE)\n",
    "mse = numpy.mean((numpy.array(predictions) - y_test) ** 2)\n",
    "print(f\"Mean Squared Error: {mse}\")\n",
    "\n",
    "# Step 6: Export model to model.h\n",
    "with open(\"model2.h\", \"w\") as file:\n",
    "    file.write(\"#ifndef MODEL_H\\n#define MODEL_H\\n\\n\")\n",
    "    file.write(\"// Membership function parameters (mean, sigma)\\n\")\n",
    "    file.write(\"float mf_params[4][2] = {\\n\")\n",
    "    for key, params in mf_params.items():\n",
    "        file.write(f\"    {{{params[0]}, {params[1]}}}, // {key}\\n\")\n",
    "    file.write(\"};\\n\\n\")\n",
    "    file.write(\"// Rule weights\\n\")\n",
    "    file.write(\"float rule_weights[4] = {1.0, 1.0, 1.0, 1.0};\\n\\n\")\n",
    "    file.write(\"#endif // MODEL_H\\n\")\n"
   ]
  },
  {
   "cell_type": "code",
   "execution_count": null,
   "metadata": {},
   "outputs": [],
   "source": []
  },
  {
   "cell_type": "code",
   "execution_count": null,
   "metadata": {},
   "outputs": [],
   "source": []
  },
  {
   "cell_type": "code",
   "execution_count": null,
   "metadata": {},
   "outputs": [],
   "source": []
  }
 ],
 "metadata": {
  "kernelspec": {
   "display_name": ".venv",
   "language": "python",
   "name": "python3"
  },
  "language_info": {
   "codemirror_mode": {
    "name": "ipython",
    "version": 3
   },
   "file_extension": ".py",
   "mimetype": "text/x-python",
   "name": "python",
   "nbconvert_exporter": "python",
   "pygments_lexer": "ipython3",
   "version": "3.11.0"
  }
 },
 "nbformat": 4,
 "nbformat_minor": 2
}
