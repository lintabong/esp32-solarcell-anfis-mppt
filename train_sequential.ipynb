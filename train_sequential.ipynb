{
 "cells": [
  {
   "cell_type": "code",
   "execution_count": 13,
   "metadata": {},
   "outputs": [],
   "source": [
    "import csv\n",
    "import pandas\n",
    "import numpy\n",
    "from sklearn.model_selection import train_test_split\n",
    "from sklearn.metrics import mean_squared_error, mean_absolute_error, r2_score\n",
    "import tensorflow\n",
    "from tensorflow.keras.models import Sequential\n",
    "from tensorflow.keras.layers import Dense\n",
    "import matplotlib.pyplot as plt"
   ]
  },
  {
   "cell_type": "code",
   "execution_count": 2,
   "metadata": {},
   "outputs": [],
   "source": [
    "# Definisi Fungsi Keanggotaan Fuzzy\n",
    "def triangular_membership(x, a, b, c):\n",
    "    return max(min((x-a)/(b-a), (c-x)/(c-b)), 0)\n",
    "\n",
    "# Fuzzifikasi untuk satu input\n",
    "def fuzzify_input(x, membership_functions):\n",
    "    return [mf(x) for mf in membership_functions]"
   ]
  },
  {
   "cell_type": "code",
   "execution_count": 3,
   "metadata": {},
   "outputs": [],
   "source": [
    "data = []\n",
    "\n",
    "with open('dataset.csv', mode='r') as file:\n",
    "    reader = csv.DictReader(file)\n",
    "    for row in reader:\n",
    "        data.append([float(row['current']), float(row['rawIntensity']), float(row['temperature']), float(row['voltage']), int(row['pwm'])])\n",
    "\n",
    "data = numpy.array(data)\n",
    "\n",
    "X_raw = data[:, :-1]\n",
    "y = data[:, -1]"
   ]
  },
  {
   "cell_type": "code",
   "execution_count": 4,
   "metadata": {},
   "outputs": [],
   "source": [
    "membership_functions = [\n",
    "    lambda x: triangular_membership(x, 0, 25, 40),  # \"current\"\n",
    "    lambda x: triangular_membership(x, 1000, 1010, 1020),  # \"rawIntensity\"\n",
    "    lambda x: triangular_membership(x, 20, 25, 30),  # \"temperature\"\n",
    "    lambda x: triangular_membership(x, 0.85, 0.9, 0.95)  # \"voltage\"\n",
    "]"
   ]
  },
  {
   "cell_type": "code",
   "execution_count": 5,
   "metadata": {},
   "outputs": [],
   "source": [
    "X_fuzzy = numpy.array([\n",
    "    [fuzzify_input(x, membership_functions) for x in X_row] for X_row in X_raw\n",
    "])\n",
    "\n",
    "X_train, X_val, y_train, y_val = train_test_split(X_fuzzy.reshape(len(X_fuzzy), -1), y, test_size=0.2, random_state=42)\n"
   ]
  },
  {
   "cell_type": "code",
   "execution_count": 6,
   "metadata": {},
   "outputs": [
    {
     "name": "stderr",
     "output_type": "stream",
     "text": [
      "c:\\Users\\atmatech\\Documents\\eps32_solarcell_anfis_mppt\\.venv\\Lib\\site-packages\\keras\\src\\layers\\core\\dense.py:87: UserWarning: Do not pass an `input_shape`/`input_dim` argument to a layer. When using Sequential models, prefer using an `Input(shape)` object as the first layer in the model instead.\n",
      "  super().__init__(activity_regularizer=activity_regularizer, **kwargs)\n"
     ]
    }
   ],
   "source": [
    "model = Sequential([\n",
    "    Dense(16, activation='relu', input_shape=(X_train.shape[1],)),\n",
    "    Dense(8, activation='relu'),\n",
    "    Dense(1)\n",
    "])\n",
    "model.compile(optimizer='adam', loss='mse', metrics=['mae'])"
   ]
  },
  {
   "cell_type": "code",
   "execution_count": 7,
   "metadata": {},
   "outputs": [
    {
     "name": "stdout",
     "output_type": "stream",
     "text": [
      "Epoch 1/50\n",
      "\u001b[1m671/671\u001b[0m \u001b[32m━━━━━━━━━━━━━━━━━━━━\u001b[0m\u001b[37m\u001b[0m \u001b[1m3s\u001b[0m 3ms/step - loss: 11866.1221 - mae: 102.5946 - val_loss: 1106.6313 - val_mae: 28.8570\n",
      "Epoch 2/50\n",
      "\u001b[1m671/671\u001b[0m \u001b[32m━━━━━━━━━━━━━━━━━━━━\u001b[0m\u001b[37m\u001b[0m \u001b[1m2s\u001b[0m 2ms/step - loss: 1122.1663 - mae: 29.5535 - val_loss: 1065.5599 - val_mae: 29.0128\n",
      "Epoch 3/50\n",
      "\u001b[1m671/671\u001b[0m \u001b[32m━━━━━━━━━━━━━━━━━━━━\u001b[0m\u001b[37m\u001b[0m \u001b[1m2s\u001b[0m 2ms/step - loss: 1072.6486 - mae: 29.2669 - val_loss: 1043.2576 - val_mae: 29.0404\n",
      "Epoch 4/50\n",
      "\u001b[1m671/671\u001b[0m \u001b[32m━━━━━━━━━━━━━━━━━━━━\u001b[0m\u001b[37m\u001b[0m \u001b[1m2s\u001b[0m 2ms/step - loss: 1058.1577 - mae: 29.4603 - val_loss: 1026.4781 - val_mae: 29.0195\n",
      "Epoch 5/50\n",
      "\u001b[1m671/671\u001b[0m \u001b[32m━━━━━━━━━━━━━━━━━━━━\u001b[0m\u001b[37m\u001b[0m \u001b[1m2s\u001b[0m 2ms/step - loss: 1034.0458 - mae: 29.2638 - val_loss: 1015.0837 - val_mae: 28.9524\n",
      "Epoch 6/50\n",
      "\u001b[1m671/671\u001b[0m \u001b[32m━━━━━━━━━━━━━━━━━━━━\u001b[0m\u001b[37m\u001b[0m \u001b[1m2s\u001b[0m 2ms/step - loss: 1015.7443 - mae: 29.1177 - val_loss: 1009.9528 - val_mae: 28.8876\n",
      "Epoch 7/50\n",
      "\u001b[1m671/671\u001b[0m \u001b[32m━━━━━━━━━━━━━━━━━━━━\u001b[0m\u001b[37m\u001b[0m \u001b[1m2s\u001b[0m 2ms/step - loss: 1005.9527 - mae: 28.9450 - val_loss: 998.3376 - val_mae: 28.9588\n",
      "Epoch 8/50\n",
      "\u001b[1m671/671\u001b[0m \u001b[32m━━━━━━━━━━━━━━━━━━━━\u001b[0m\u001b[37m\u001b[0m \u001b[1m3s\u001b[0m 2ms/step - loss: 999.6506 - mae: 29.1062 - val_loss: 995.0717 - val_mae: 29.1912\n",
      "Epoch 9/50\n",
      "\u001b[1m671/671\u001b[0m \u001b[32m━━━━━━━━━━━━━━━━━━━━\u001b[0m\u001b[37m\u001b[0m \u001b[1m1s\u001b[0m 2ms/step - loss: 991.9421 - mae: 29.1774 - val_loss: 988.8690 - val_mae: 28.9274\n",
      "Epoch 10/50\n",
      "\u001b[1m671/671\u001b[0m \u001b[32m━━━━━━━━━━━━━━━━━━━━\u001b[0m\u001b[37m\u001b[0m \u001b[1m2s\u001b[0m 2ms/step - loss: 980.4996 - mae: 28.9197 - val_loss: 983.7501 - val_mae: 29.0743\n",
      "Epoch 11/50\n",
      "\u001b[1m671/671\u001b[0m \u001b[32m━━━━━━━━━━━━━━━━━━━━\u001b[0m\u001b[37m\u001b[0m \u001b[1m2s\u001b[0m 2ms/step - loss: 968.4829 - mae: 28.8647 - val_loss: 984.0129 - val_mae: 28.8915\n",
      "Epoch 12/50\n",
      "\u001b[1m671/671\u001b[0m \u001b[32m━━━━━━━━━━━━━━━━━━━━\u001b[0m\u001b[37m\u001b[0m \u001b[1m2s\u001b[0m 2ms/step - loss: 985.5054 - mae: 29.1669 - val_loss: 980.1675 - val_mae: 29.1276\n",
      "Epoch 13/50\n",
      "\u001b[1m671/671\u001b[0m \u001b[32m━━━━━━━━━━━━━━━━━━━━\u001b[0m\u001b[37m\u001b[0m \u001b[1m2s\u001b[0m 2ms/step - loss: 968.3218 - mae: 28.8446 - val_loss: 981.2471 - val_mae: 29.1928\n",
      "Epoch 14/50\n",
      "\u001b[1m671/671\u001b[0m \u001b[32m━━━━━━━━━━━━━━━━━━━━\u001b[0m\u001b[37m\u001b[0m \u001b[1m2s\u001b[0m 2ms/step - loss: 955.2259 - mae: 28.5780 - val_loss: 976.6239 - val_mae: 29.0582\n",
      "Epoch 15/50\n",
      "\u001b[1m671/671\u001b[0m \u001b[32m━━━━━━━━━━━━━━━━━━━━\u001b[0m\u001b[37m\u001b[0m \u001b[1m2s\u001b[0m 2ms/step - loss: 962.7567 - mae: 28.6847 - val_loss: 976.1254 - val_mae: 28.9419\n",
      "Epoch 16/50\n",
      "\u001b[1m671/671\u001b[0m \u001b[32m━━━━━━━━━━━━━━━━━━━━\u001b[0m\u001b[37m\u001b[0m \u001b[1m2s\u001b[0m 2ms/step - loss: 929.3531 - mae: 28.1429 - val_loss: 976.2266 - val_mae: 28.9083\n",
      "Epoch 17/50\n",
      "\u001b[1m671/671\u001b[0m \u001b[32m━━━━━━━━━━━━━━━━━━━━\u001b[0m\u001b[37m\u001b[0m \u001b[1m2s\u001b[0m 2ms/step - loss: 958.4356 - mae: 28.6465 - val_loss: 977.8975 - val_mae: 29.1431\n",
      "Epoch 18/50\n",
      "\u001b[1m671/671\u001b[0m \u001b[32m━━━━━━━━━━━━━━━━━━━━\u001b[0m\u001b[37m\u001b[0m \u001b[1m2s\u001b[0m 2ms/step - loss: 961.9992 - mae: 28.6850 - val_loss: 976.6689 - val_mae: 29.1157\n",
      "Epoch 19/50\n",
      "\u001b[1m671/671\u001b[0m \u001b[32m━━━━━━━━━━━━━━━━━━━━\u001b[0m\u001b[37m\u001b[0m \u001b[1m2s\u001b[0m 2ms/step - loss: 956.5288 - mae: 28.6425 - val_loss: 975.6823 - val_mae: 28.8786\n",
      "Epoch 20/50\n",
      "\u001b[1m671/671\u001b[0m \u001b[32m━━━━━━━━━━━━━━━━━━━━\u001b[0m\u001b[37m\u001b[0m \u001b[1m2s\u001b[0m 3ms/step - loss: 962.9675 - mae: 28.6503 - val_loss: 974.5430 - val_mae: 28.9950\n",
      "Epoch 21/50\n",
      "\u001b[1m671/671\u001b[0m \u001b[32m━━━━━━━━━━━━━━━━━━━━\u001b[0m\u001b[37m\u001b[0m \u001b[1m2s\u001b[0m 2ms/step - loss: 954.6768 - mae: 28.5907 - val_loss: 975.3870 - val_mae: 28.8852\n",
      "Epoch 22/50\n",
      "\u001b[1m671/671\u001b[0m \u001b[32m━━━━━━━━━━━━━━━━━━━━\u001b[0m\u001b[37m\u001b[0m \u001b[1m2s\u001b[0m 3ms/step - loss: 960.6256 - mae: 28.6498 - val_loss: 980.7918 - val_mae: 29.1778\n",
      "Epoch 23/50\n",
      "\u001b[1m671/671\u001b[0m \u001b[32m━━━━━━━━━━━━━━━━━━━━\u001b[0m\u001b[37m\u001b[0m \u001b[1m2s\u001b[0m 3ms/step - loss: 958.5341 - mae: 28.5595 - val_loss: 983.0365 - val_mae: 29.2050\n",
      "Epoch 24/50\n",
      "\u001b[1m671/671\u001b[0m \u001b[32m━━━━━━━━━━━━━━━━━━━━\u001b[0m\u001b[37m\u001b[0m \u001b[1m2s\u001b[0m 3ms/step - loss: 957.1121 - mae: 28.5357 - val_loss: 974.8694 - val_mae: 28.9518\n",
      "Epoch 25/50\n",
      "\u001b[1m671/671\u001b[0m \u001b[32m━━━━━━━━━━━━━━━━━━━━\u001b[0m\u001b[37m\u001b[0m \u001b[1m2s\u001b[0m 3ms/step - loss: 960.9136 - mae: 28.7092 - val_loss: 977.6694 - val_mae: 28.7958\n",
      "Epoch 26/50\n",
      "\u001b[1m671/671\u001b[0m \u001b[32m━━━━━━━━━━━━━━━━━━━━\u001b[0m\u001b[37m\u001b[0m \u001b[1m2s\u001b[0m 3ms/step - loss: 973.5494 - mae: 28.8898 - val_loss: 975.1133 - val_mae: 28.9215\n",
      "Epoch 27/50\n",
      "\u001b[1m671/671\u001b[0m \u001b[32m━━━━━━━━━━━━━━━━━━━━\u001b[0m\u001b[37m\u001b[0m \u001b[1m2s\u001b[0m 3ms/step - loss: 955.3696 - mae: 28.6312 - val_loss: 979.6234 - val_mae: 28.7501\n",
      "Epoch 28/50\n",
      "\u001b[1m671/671\u001b[0m \u001b[32m━━━━━━━━━━━━━━━━━━━━\u001b[0m\u001b[37m\u001b[0m \u001b[1m2s\u001b[0m 4ms/step - loss: 957.8699 - mae: 28.5688 - val_loss: 975.3688 - val_mae: 28.9114\n",
      "Epoch 29/50\n",
      "\u001b[1m671/671\u001b[0m \u001b[32m━━━━━━━━━━━━━━━━━━━━\u001b[0m\u001b[37m\u001b[0m \u001b[1m2s\u001b[0m 3ms/step - loss: 948.8282 - mae: 28.3285 - val_loss: 978.3488 - val_mae: 29.0727\n",
      "Epoch 30/50\n",
      "\u001b[1m671/671\u001b[0m \u001b[32m━━━━━━━━━━━━━━━━━━━━\u001b[0m\u001b[37m\u001b[0m \u001b[1m2s\u001b[0m 3ms/step - loss: 940.0663 - mae: 28.3068 - val_loss: 975.8313 - val_mae: 28.9694\n",
      "Epoch 31/50\n",
      "\u001b[1m671/671\u001b[0m \u001b[32m━━━━━━━━━━━━━━━━━━━━\u001b[0m\u001b[37m\u001b[0m \u001b[1m2s\u001b[0m 3ms/step - loss: 964.8242 - mae: 28.6894 - val_loss: 977.2808 - val_mae: 29.0334\n",
      "Epoch 32/50\n",
      "\u001b[1m671/671\u001b[0m \u001b[32m━━━━━━━━━━━━━━━━━━━━\u001b[0m\u001b[37m\u001b[0m \u001b[1m2s\u001b[0m 3ms/step - loss: 948.4253 - mae: 28.4677 - val_loss: 979.1224 - val_mae: 28.7531\n",
      "Epoch 33/50\n",
      "\u001b[1m671/671\u001b[0m \u001b[32m━━━━━━━━━━━━━━━━━━━━\u001b[0m\u001b[37m\u001b[0m \u001b[1m2s\u001b[0m 3ms/step - loss: 961.1906 - mae: 28.5822 - val_loss: 976.2417 - val_mae: 28.9786\n",
      "Epoch 34/50\n",
      "\u001b[1m671/671\u001b[0m \u001b[32m━━━━━━━━━━━━━━━━━━━━\u001b[0m\u001b[37m\u001b[0m \u001b[1m2s\u001b[0m 3ms/step - loss: 944.0051 - mae: 28.2706 - val_loss: 975.9180 - val_mae: 28.9449\n",
      "Epoch 35/50\n",
      "\u001b[1m671/671\u001b[0m \u001b[32m━━━━━━━━━━━━━━━━━━━━\u001b[0m\u001b[37m\u001b[0m \u001b[1m2s\u001b[0m 3ms/step - loss: 958.4621 - mae: 28.6106 - val_loss: 977.8533 - val_mae: 29.0343\n",
      "Epoch 36/50\n",
      "\u001b[1m671/671\u001b[0m \u001b[32m━━━━━━━━━━━━━━━━━━━━\u001b[0m\u001b[37m\u001b[0m \u001b[1m2s\u001b[0m 2ms/step - loss: 974.9580 - mae: 28.8288 - val_loss: 977.1077 - val_mae: 29.0081\n",
      "Epoch 37/50\n",
      "\u001b[1m671/671\u001b[0m \u001b[32m━━━━━━━━━━━━━━━━━━━━\u001b[0m\u001b[37m\u001b[0m \u001b[1m2s\u001b[0m 2ms/step - loss: 943.4930 - mae: 28.2162 - val_loss: 992.5192 - val_mae: 29.2816\n",
      "Epoch 38/50\n",
      "\u001b[1m671/671\u001b[0m \u001b[32m━━━━━━━━━━━━━━━━━━━━\u001b[0m\u001b[37m\u001b[0m \u001b[1m2s\u001b[0m 2ms/step - loss: 967.0985 - mae: 28.8048 - val_loss: 976.1718 - val_mae: 28.8796\n",
      "Epoch 39/50\n",
      "\u001b[1m671/671\u001b[0m \u001b[32m━━━━━━━━━━━━━━━━━━━━\u001b[0m\u001b[37m\u001b[0m \u001b[1m2s\u001b[0m 2ms/step - loss: 965.2756 - mae: 28.5372 - val_loss: 979.4394 - val_mae: 29.0684\n",
      "Epoch 40/50\n",
      "\u001b[1m671/671\u001b[0m \u001b[32m━━━━━━━━━━━━━━━━━━━━\u001b[0m\u001b[37m\u001b[0m \u001b[1m2s\u001b[0m 2ms/step - loss: 935.8942 - mae: 28.1776 - val_loss: 982.4331 - val_mae: 29.1305\n",
      "Epoch 41/50\n",
      "\u001b[1m671/671\u001b[0m \u001b[32m━━━━━━━━━━━━━━━━━━━━\u001b[0m\u001b[37m\u001b[0m \u001b[1m2s\u001b[0m 2ms/step - loss: 950.8028 - mae: 28.4244 - val_loss: 979.8743 - val_mae: 29.0726\n",
      "Epoch 42/50\n",
      "\u001b[1m671/671\u001b[0m \u001b[32m━━━━━━━━━━━━━━━━━━━━\u001b[0m\u001b[37m\u001b[0m \u001b[1m2s\u001b[0m 2ms/step - loss: 965.9198 - mae: 28.6726 - val_loss: 979.4915 - val_mae: 29.0601\n",
      "Epoch 43/50\n",
      "\u001b[1m671/671\u001b[0m \u001b[32m━━━━━━━━━━━━━━━━━━━━\u001b[0m\u001b[37m\u001b[0m \u001b[1m2s\u001b[0m 2ms/step - loss: 946.1533 - mae: 28.3475 - val_loss: 976.6729 - val_mae: 28.8516\n",
      "Epoch 44/50\n",
      "\u001b[1m671/671\u001b[0m \u001b[32m━━━━━━━━━━━━━━━━━━━━\u001b[0m\u001b[37m\u001b[0m \u001b[1m2s\u001b[0m 3ms/step - loss: 958.6082 - mae: 28.5297 - val_loss: 976.7161 - val_mae: 28.9569\n",
      "Epoch 45/50\n",
      "\u001b[1m671/671\u001b[0m \u001b[32m━━━━━━━━━━━━━━━━━━━━\u001b[0m\u001b[37m\u001b[0m \u001b[1m2s\u001b[0m 2ms/step - loss: 949.1817 - mae: 28.4673 - val_loss: 979.0521 - val_mae: 29.0451\n",
      "Epoch 46/50\n",
      "\u001b[1m671/671\u001b[0m \u001b[32m━━━━━━━━━━━━━━━━━━━━\u001b[0m\u001b[37m\u001b[0m \u001b[1m2s\u001b[0m 3ms/step - loss: 959.4321 - mae: 28.6271 - val_loss: 977.2878 - val_mae: 28.9860\n",
      "Epoch 47/50\n",
      "\u001b[1m671/671\u001b[0m \u001b[32m━━━━━━━━━━━━━━━━━━━━\u001b[0m\u001b[37m\u001b[0m \u001b[1m2s\u001b[0m 3ms/step - loss: 960.4072 - mae: 28.5944 - val_loss: 977.4227 - val_mae: 28.9905\n",
      "Epoch 48/50\n",
      "\u001b[1m671/671\u001b[0m \u001b[32m━━━━━━━━━━━━━━━━━━━━\u001b[0m\u001b[37m\u001b[0m \u001b[1m2s\u001b[0m 2ms/step - loss: 975.3206 - mae: 28.8426 - val_loss: 977.4156 - val_mae: 28.9932\n",
      "Epoch 49/50\n",
      "\u001b[1m671/671\u001b[0m \u001b[32m━━━━━━━━━━━━━━━━━━━━\u001b[0m\u001b[37m\u001b[0m \u001b[1m2s\u001b[0m 2ms/step - loss: 962.5363 - mae: 28.6670 - val_loss: 978.4688 - val_mae: 28.7747\n",
      "Epoch 50/50\n",
      "\u001b[1m671/671\u001b[0m \u001b[32m━━━━━━━━━━━━━━━━━━━━\u001b[0m\u001b[37m\u001b[0m \u001b[1m2s\u001b[0m 3ms/step - loss: 963.1362 - mae: 28.6954 - val_loss: 977.4011 - val_mae: 28.9916\n"
     ]
    }
   ],
   "source": [
    "history = model.fit(X_train, y_train, validation_data=(X_val, y_val), epochs=50, batch_size=4, verbose=1)\n"
   ]
  },
  {
   "cell_type": "code",
   "execution_count": 8,
   "metadata": {},
   "outputs": [
    {
     "data": {
      "image/png": "[encoded data removed]",
      "text/plain": [
       "<Figure size 640x480 with 1 Axes>"
      ]
     },
     "metadata": {},
     "output_type": "display_data"
    }
   ],
   "source": [
    "# Step 6: Plot Hasil\n",
    "plt.plot(history.history['loss'], label='Training Loss')\n",
    "plt.plot(history.history['val_loss'], label='Validation Loss')\n",
    "plt.legend()\n",
    "plt.show()"
   ]
  },
  {
   "cell_type": "code",
   "execution_count": 14,
   "metadata": {},
   "outputs": [
    {
     "name": "stdout",
     "output_type": "stream",
     "text": [
      "\u001b[1m21/21\u001b[0m \u001b[32m━━━━━━━━━━━━━━━━━━━━\u001b[0m\u001b[37m\u001b[0m \u001b[1m0s\u001b[0m 2ms/step \n",
      "Mean Squared Error (MSE): 977.4010\n",
      "Root Mean Squared Error (RMSE): 31.2634\n",
      "Mean Absolute Error (MAE): 28.9916\n",
      "R-squared (R2): 0.0255\n"
     ]
    }
   ],
   "source": [
    "y_pred = model.predict(X_val)\n",
    "\n",
    "# Menghitung metrik evaluasi\n",
    "mse = mean_squared_error(y_val, y_pred)\n",
    "rmse = numpy.sqrt(mse)\n",
    "mae = mean_absolute_error(y_val, y_pred)\n",
    "r2 = r2_score(y_val, y_pred)\n",
    "\n",
    "print(f\"Mean Squared Error (MSE): {mse:.4f}\")\n",
    "print(f\"Root Mean Squared Error (RMSE): {rmse:.4f}\")\n",
    "print(f\"Mean Absolute Error (MAE): {mae:.4f}\")\n",
    "print(f\"R-squared (R2): {r2:.4f}\")"
   ]
  },
  {
   "cell_type": "code",
   "execution_count": 10,
   "metadata": {},
   "outputs": [
    {
     "name": "stderr",
     "output_type": "stream",
     "text": [
      "WARNING:absl:You are saving your model as an HDF5 file via `model.save()` or `keras.saving.save_model(model)`. This file format is considered legacy. We recommend using instead the native Keras format, e.g. `model.save('my_model.keras')` or `keras.saving.save_model(model, 'my_model.keras')`. \n"
     ]
    }
   ],
   "source": [
    "model.save('model.h5')"
   ]
  },
  {
   "cell_type": "code",
   "execution_count": 11,
   "metadata": {},
   "outputs": [
    {
     "name": "stdout",
     "output_type": "stream",
     "text": [
      "INFO:tensorflow:Assets written to: C:\\Users\\atmatech\\AppData\\Local\\Temp\\tmpag8fdw9w\\assets\n"
     ]
    },
    {
     "name": "stderr",
     "output_type": "stream",
     "text": [
      "INFO:tensorflow:Assets written to: C:\\Users\\atmatech\\AppData\\Local\\Temp\\tmpag8fdw9w\\assets\n"
     ]
    },
    {
     "name": "stdout",
     "output_type": "stream",
     "text": [
      "Saved artifact at 'C:\\Users\\atmatech\\AppData\\Local\\Temp\\tmpag8fdw9w'. The following endpoints are available:\n",
      "\n",
      "* Endpoint 'serve'\n",
      "  args_0 (POSITIONAL_ONLY): TensorSpec(shape=(None, 16), dtype=tf.float32, name='keras_tensor')\n",
      "Output Type:\n",
      "  TensorSpec(shape=(None, 1), dtype=tf.float32, name=None)\n",
      "Captures:\n",
      "  2595996212432: TensorSpec(shape=(), dtype=tf.resource, name=None)\n",
      "  2595996216080: TensorSpec(shape=(), dtype=tf.resource, name=None)\n",
      "  2595996214928: TensorSpec(shape=(), dtype=tf.resource, name=None)\n",
      "  2595996213776: TensorSpec(shape=(), dtype=tf.resource, name=None)\n",
      "  2595996216656: TensorSpec(shape=(), dtype=tf.resource, name=None)\n",
      "  2595996214352: TensorSpec(shape=(), dtype=tf.resource, name=None)\n"
     ]
    }
   ],
   "source": [
    "converter = tensorflow.lite.TFLiteConverter.from_keras_model(model)\n",
    "tflite_model = converter.convert()\n",
    "\n",
    "with open('model.tflite', 'wb') as f:\n",
    "    f.write(tflite_model)"
   ]
  }
 ],
 "metadata": {
  "kernelspec": {
   "display_name": ".venv",
   "language": "python",
   "name": "python3"
  },
  "language_info": {
   "codemirror_mode": {
    "name": "ipython",
    "version": 3
   },
   "file_extension": ".py",
   "mimetype": "text/x-python",
   "name": "python",
   "nbconvert_exporter": "python",
   "pygments_lexer": "ipython3",
   "version": "3.11.0"
  }
 },
 "nbformat": 4,
 "nbformat_minor": 2
}
